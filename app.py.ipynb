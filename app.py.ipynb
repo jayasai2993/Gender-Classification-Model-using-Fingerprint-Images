{
 "cells": [
  {
   "cell_type": "code",
   "execution_count": null,
   "id": "01307909",
   "metadata": {},
   "outputs": [],
   "source": [
    "from flask import Flask , render_template , request\n",
    "import tensorflow as tf\n",
    "from tensorflow.keras.preprocessing.image import load_img, img_to_array\n",
    "import cv2\n",
    "import numpy as np\n",
    "app=Flask(__name__)\n",
    "\n",
    "# Load the saved model\n",
    "model = tf.keras.models.load_model(r'C:\\Users\\SAI\\GenderFP.h5')\n",
    "\n",
    "def preprocess_image(image_path):\n",
    "    img_size=96\n",
    "    img_array = cv2.imread(image_path, cv2.IMREAD_GRAYSCALE)  # Read the image\n",
    "    img_resize = cv2.resize(img_array, (img_size, img_size))  # Resize to the required dimensions\n",
    "    img_resize = img_resize.reshape(-1, img_size, img_size, 1)  # Reshape for model input\n",
    "    img_resize = img_resize / 255.0  # Normalize the image\n",
    "    prediction = model.predict(img_resize)\n",
    "    return prediction\n",
    "\n",
    "@app.route('/')\n",
    "def hello_world():\n",
    "    return render_template('home.html')\n",
    "\n",
    "@app.route('/',methods=['POST'])\n",
    "def predict():\n",
    "    imagefile= request.files['imagefile']\n",
    "    image_path1 = imagefile.filename\n",
    "    save_path='./static/'+imagefile.filename\n",
    "    print(save_path)\n",
    "    imagefile.save(save_path)\n",
    "    prediction = preprocess_image(save_path)\n",
    "    if prediction >= 0.5:\n",
    "        c=\"female\"\n",
    "        d=\"https://encrypted-tbn0.gstatic.com/images?q=tbn:ANd9GcT5s87ekSAHkGx0aa-banQzih9cxROEE7wDKwaGlnhNBweaIAXz397Fa1KhrZnIXcY1-E0&usqp=CAU\"\n",
    "    else:\n",
    "        c=\"male\"\n",
    "        d=\"https://cdn1.iconfinder.com/data/icons/user-pictures/101/malecostume-512.png\"\n",
    "\n",
    "    return render_template('output.html',prediction=c,path=save_path,g=d)\n",
    "\n",
    "if __name__ == '__main__':\n",
    "    app.run(port=5001)"
   ]
  },
  {
   "cell_type": "code",
   "execution_count": null,
   "id": "4aaec08b",
   "metadata": {},
   "outputs": [],
   "source": []
  }
 ],
 "metadata": {
  "kernelspec": {
   "display_name": "Python 3 (ipykernel)",
   "language": "python",
   "name": "python3"
  },
  "language_info": {
   "codemirror_mode": {
    "name": "ipython",
    "version": 3
   },
   "file_extension": ".py",
   "mimetype": "text/x-python",
   "name": "python",
   "nbconvert_exporter": "python",
   "pygments_lexer": "ipython3",
   "version": "3.9.13"
  }
 },
 "nbformat": 4,
 "nbformat_minor": 5
}
